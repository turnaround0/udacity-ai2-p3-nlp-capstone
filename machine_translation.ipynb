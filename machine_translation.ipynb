{
 "cells": [
  {
   "cell_type": "markdown",
   "metadata": {
    "collapsed": true
   },
   "source": [
    "# Artificial Intelligence Nanodegree\n",
    "## Machine Translation Project\n",
    "In this notebook, sections that end with **'(IMPLEMENTATION)'** in the header indicate that the following blocks of code will require additional functionality which you must provide. Please be sure to read the instructions carefully!\n",
    "\n",
    "## Introduction\n",
    "In this notebook, you will build a deep neural network that functions as part of an end-to-end machine translation pipeline. Your completed pipeline will accept English text as input and return the French translation.\n",
    "\n",
    "- **Preprocess** - You'll convert text to sequence of integers.\n",
    "- **Models** Create models which accepts a sequence of integers as input and returns a probability distribution over possible translations. After learning about the basic types of neural networks that are often used for machine translation, you will engage in your own investigations, to design your own model!\n",
    "- **Prediction** Run the model on English text."
   ]
  },
  {
   "cell_type": "code",
   "execution_count": 1,
   "metadata": {},
   "outputs": [],
   "source": [
    "%load_ext autoreload\n",
    "%aimport helper, tests\n",
    "%autoreload 1"
   ]
  },
  {
   "cell_type": "code",
   "execution_count": 2,
   "metadata": {},
   "outputs": [
    {
     "name": "stderr",
     "output_type": "stream",
     "text": [
      "Using TensorFlow backend.\n"
     ]
    }
   ],
   "source": [
    "import collections\n",
    "\n",
    "import helper\n",
    "import numpy as np\n",
    "import project_tests as tests\n",
    "\n",
    "from keras.preprocessing.text import Tokenizer\n",
    "from keras.preprocessing.sequence import pad_sequences\n",
    "from keras.models import Model\n",
    "from keras.layers import GRU, Input, Dense, TimeDistributed, Activation, RepeatVector, Bidirectional\n",
    "from keras.layers.embeddings import Embedding\n",
    "from keras.optimizers import Adam\n",
    "from keras.losses import sparse_categorical_crossentropy"
   ]
  },
  {
   "cell_type": "markdown",
   "metadata": {},
   "source": [
    "### Verify access to the GPU\n",
    "The following test applies only if you expect to be using a GPU, e.g., while running in a Udacity Workspace or using an AWS instance with GPU support. Run the next cell, and verify that the device_type is \"GPU\".\n",
    "- If the device is not GPU & you are running from a Udacity Workspace, then save your workspace with the icon at the top, then click \"enable\" at the bottom of the workspace.\n",
    "- If the device is not GPU & you are running from an AWS instance, then refer to the cloud computing instructions in the classroom to verify your setup steps."
   ]
  },
  {
   "cell_type": "code",
   "execution_count": 3,
   "metadata": {},
   "outputs": [
    {
     "name": "stdout",
     "output_type": "stream",
     "text": [
      "[name: \"/cpu:0\"\n",
      "device_type: \"CPU\"\n",
      "memory_limit: 268435456\n",
      "locality {\n",
      "}\n",
      "incarnation: 10507340083937669865\n",
      ", name: \"/gpu:0\"\n",
      "device_type: \"GPU\"\n",
      "memory_limit: 357171200\n",
      "locality {\n",
      "  bus_id: 1\n",
      "}\n",
      "incarnation: 10898548429839727539\n",
      "physical_device_desc: \"device: 0, name: Tesla K80, pci bus id: 0000:00:04.0\"\n",
      "]\n"
     ]
    }
   ],
   "source": [
    "from tensorflow.python.client import device_lib\n",
    "print(device_lib.list_local_devices())"
   ]
  },
  {
   "cell_type": "markdown",
   "metadata": {},
   "source": [
    "## Dataset\n",
    "We begin by investigating the dataset that will be used to train and evaluate your pipeline.  The most common datasets used for machine translation are from [WMT](http://www.statmt.org/).  However, that will take a long time to train a neural network on.  We'll be using a dataset we created for this project that contains a small vocabulary.  You'll be able to train your model in a reasonable time with this dataset.\n",
    "### Load Data\n",
    "The data is located in `data/small_vocab_en` and `data/small_vocab_fr`. The `small_vocab_en` file contains English sentences with their French translations in the `small_vocab_fr` file. Load the English and French data from these files from running the cell below."
   ]
  },
  {
   "cell_type": "code",
   "execution_count": 4,
   "metadata": {},
   "outputs": [
    {
     "name": "stdout",
     "output_type": "stream",
     "text": [
      "Dataset Loaded\n"
     ]
    }
   ],
   "source": [
    "# Load English data\n",
    "english_sentences = helper.load_data('data/small_vocab_en')\n",
    "# Load French data\n",
    "french_sentences = helper.load_data('data/small_vocab_fr')\n",
    "\n",
    "print('Dataset Loaded')"
   ]
  },
  {
   "cell_type": "markdown",
   "metadata": {},
   "source": [
    "### Files\n",
    "Each line in `small_vocab_en` contains an English sentence with the respective translation in each line of `small_vocab_fr`.  View the first two lines from each file."
   ]
  },
  {
   "cell_type": "code",
   "execution_count": 5,
   "metadata": {},
   "outputs": [
    {
     "name": "stdout",
     "output_type": "stream",
     "text": [
      "small_vocab_en Line 1:  new jersey is sometimes quiet during autumn , and it is snowy in april .\n",
      "small_vocab_fr Line 1:  new jersey est parfois calme pendant l' automne , et il est neigeux en avril .\n",
      "small_vocab_en Line 2:  the united states is usually chilly during july , and it is usually freezing in november .\n",
      "small_vocab_fr Line 2:  les états-unis est généralement froid en juillet , et il gèle habituellement en novembre .\n"
     ]
    }
   ],
   "source": [
    "for sample_i in range(2):\n",
    "    print('small_vocab_en Line {}:  {}'.format(sample_i + 1, english_sentences[sample_i]))\n",
    "    print('small_vocab_fr Line {}:  {}'.format(sample_i + 1, french_sentences[sample_i]))"
   ]
  },
  {
   "cell_type": "markdown",
   "metadata": {},
   "source": [
    "From looking at the sentences, you can see they have been preprocessed already.  The puncuations have been delimited using spaces. All the text have been converted to lowercase.  This should save you some time, but the text requires more preprocessing.\n",
    "### Vocabulary\n",
    "The complexity of the problem is determined by the complexity of the vocabulary.  A more complex vocabulary is a more complex problem.  Let's look at the complexity of the dataset we'll be working with."
   ]
  },
  {
   "cell_type": "code",
   "execution_count": 6,
   "metadata": {},
   "outputs": [
    {
     "name": "stdout",
     "output_type": "stream",
     "text": [
      "1823250 English words.\n",
      "227 unique English words.\n",
      "10 Most common words in the English dataset:\n",
      "\"is\" \",\" \".\" \"in\" \"it\" \"during\" \"the\" \"but\" \"and\" \"sometimes\"\n",
      "\n",
      "1961295 French words.\n",
      "355 unique French words.\n",
      "10 Most common words in the French dataset:\n",
      "\"est\" \".\" \",\" \"en\" \"il\" \"les\" \"mais\" \"et\" \"la\" \"parfois\"\n"
     ]
    }
   ],
   "source": [
    "english_words_counter = collections.Counter([word for sentence in english_sentences for word in sentence.split()])\n",
    "french_words_counter = collections.Counter([word for sentence in french_sentences for word in sentence.split()])\n",
    "\n",
    "print('{} English words.'.format(len([word for sentence in english_sentences for word in sentence.split()])))\n",
    "print('{} unique English words.'.format(len(english_words_counter)))\n",
    "print('10 Most common words in the English dataset:')\n",
    "print('\"' + '\" \"'.join(list(zip(*english_words_counter.most_common(10)))[0]) + '\"')\n",
    "print()\n",
    "print('{} French words.'.format(len([word for sentence in french_sentences for word in sentence.split()])))\n",
    "print('{} unique French words.'.format(len(french_words_counter)))\n",
    "print('10 Most common words in the French dataset:')\n",
    "print('\"' + '\" \"'.join(list(zip(*french_words_counter.most_common(10)))[0]) + '\"')"
   ]
  },
  {
   "cell_type": "markdown",
   "metadata": {},
   "source": [
    "For comparison, _Alice's Adventures in Wonderland_ contains 2,766 unique words of a total of 15,500 words.\n",
    "## Preprocess\n",
    "For this project, you won't use text data as input to your model. Instead, you'll convert the text into sequences of integers using the following preprocess methods:\n",
    "1. Tokenize the words into ids\n",
    "2. Add padding to make all the sequences the same length.\n",
    "\n",
    "Time to start preprocessing the data...\n",
    "### Tokenize (IMPLEMENTATION)\n",
    "For a neural network to predict on text data, it first has to be turned into data it can understand. Text data like \"dog\" is a sequence of ASCII character encodings.  Since a neural network is a series of multiplication and addition operations, the input data needs to be number(s).\n",
    "\n",
    "We can turn each character into a number or each word into a number.  These are called character and word ids, respectively.  Character ids are used for character level models that generate text predictions for each character.  A word level model uses word ids that generate text predictions for each word.  Word level models tend to learn better, since they are lower in complexity, so we'll use those.\n",
    "\n",
    "Turn each sentence into a sequence of words ids using Keras's [`Tokenizer`](https://keras.io/preprocessing/text/#tokenizer) function. Use this function to tokenize `english_sentences` and `french_sentences` in the cell below.\n",
    "\n",
    "Running the cell will run `tokenize` on sample data and show output for debugging."
   ]
  },
  {
   "cell_type": "code",
   "execution_count": 7,
   "metadata": {},
   "outputs": [
    {
     "name": "stdout",
     "output_type": "stream",
     "text": [
      "{'the': 1, 'quick': 2, 'a': 3, 'brown': 4, 'fox': 5, 'jumps': 6, 'over': 7, 'lazy': 8, 'dog': 9, 'by': 10, 'jove': 11, 'my': 12, 'study': 13, 'of': 14, 'lexicography': 15, 'won': 16, 'prize': 17, 'this': 18, 'is': 19, 'short': 20, 'sentence': 21}\n",
      "\n",
      "Sequence 1 in x\n",
      "  Input:  The quick brown fox jumps over the lazy dog .\n",
      "  Output: [1, 2, 4, 5, 6, 7, 1, 8, 9]\n",
      "Sequence 2 in x\n",
      "  Input:  By Jove , my quick study of lexicography won a prize .\n",
      "  Output: [10, 11, 12, 2, 13, 14, 15, 16, 3, 17]\n",
      "Sequence 3 in x\n",
      "  Input:  This is a short sentence .\n",
      "  Output: [18, 19, 3, 20, 21]\n"
     ]
    }
   ],
   "source": [
    "def tokenize(x):\n",
    "    \"\"\"\n",
    "    Tokenize x\n",
    "    :param x: List of sentences/strings to be tokenized\n",
    "    :return: Tuple of (tokenized x data, tokenizer used to tokenize x)\n",
    "    \"\"\"\n",
    "    # Use Tokenizer of keras with default parameters\n",
    "    tokenizer = Tokenizer()\n",
    "    tokenizer.fit_on_texts(x)\n",
    "\n",
    "    sequences = tokenizer.texts_to_sequences(x)\n",
    "    \n",
    "    return sequences, tokenizer\n",
    "\n",
    "\n",
    "tests.test_tokenize(tokenize)\n",
    "\n",
    "# Tokenize Example output\n",
    "text_sentences = [\n",
    "    'The quick brown fox jumps over the lazy dog .',\n",
    "    'By Jove , my quick study of lexicography won a prize .',\n",
    "    'This is a short sentence .']\n",
    "text_tokenized, text_tokenizer = tokenize(text_sentences)\n",
    "print(text_tokenizer.word_index)\n",
    "print()\n",
    "for sample_i, (sent, token_sent) in enumerate(zip(text_sentences, text_tokenized)):\n",
    "    print('Sequence {} in x'.format(sample_i + 1))\n",
    "    print('  Input:  {}'.format(sent))\n",
    "    print('  Output: {}'.format(token_sent))"
   ]
  },
  {
   "cell_type": "markdown",
   "metadata": {},
   "source": [
    "### Padding (IMPLEMENTATION)\n",
    "When batching the sequence of word ids together, each sequence needs to be the same length.  Since sentences are dynamic in length, we can add padding to the end of the sequences to make them the same length.\n",
    "\n",
    "Make sure all the English sequences have the same length and all the French sequences have the same length by adding padding to the **end** of each sequence using Keras's [`pad_sequences`](https://keras.io/preprocessing/sequence/#pad_sequences) function."
   ]
  },
  {
   "cell_type": "code",
   "execution_count": 8,
   "metadata": {},
   "outputs": [
    {
     "name": "stdout",
     "output_type": "stream",
     "text": [
      "Sequence 1 in x\n",
      "  Input:  [1 2 4 5 6 7 1 8 9]\n",
      "  Output: [1 2 4 5 6 7 1 8 9 0]\n",
      "Sequence 2 in x\n",
      "  Input:  [10 11 12  2 13 14 15 16  3 17]\n",
      "  Output: [10 11 12  2 13 14 15 16  3 17]\n",
      "Sequence 3 in x\n",
      "  Input:  [18 19  3 20 21]\n",
      "  Output: [18 19  3 20 21  0  0  0  0  0]\n"
     ]
    }
   ],
   "source": [
    "def pad(x, length=None):\n",
    "    \"\"\"\n",
    "    Pad x\n",
    "    :param x: List of sequences.\n",
    "    :param length: Length to pad the sequence to.  If None, use length of longest sequence in x.\n",
    "    :return: Padded numpy array of sequences\n",
    "    \"\"\"\n",
    "    # Add padding to the end of sequence\n",
    "    # If maxlen is None, it is set to length of longest sequence on pad_sequences.\n",
    "    return pad_sequences(x, maxlen = length, padding='post', truncating='post')\n",
    "\n",
    "tests.test_pad(pad)\n",
    "\n",
    "# Pad Tokenized output\n",
    "test_pad = pad(text_tokenized)\n",
    "for sample_i, (token_sent, pad_sent) in enumerate(zip(text_tokenized, test_pad)):\n",
    "    print('Sequence {} in x'.format(sample_i + 1))\n",
    "    print('  Input:  {}'.format(np.array(token_sent)))\n",
    "    print('  Output: {}'.format(pad_sent))"
   ]
  },
  {
   "cell_type": "markdown",
   "metadata": {},
   "source": [
    "### Preprocess Pipeline\n",
    "Your focus for this project is to build neural network architecture, so we won't ask you to create a preprocess pipeline.  Instead, we've provided you with the implementation of the `preprocess` function."
   ]
  },
  {
   "cell_type": "code",
   "execution_count": 9,
   "metadata": {},
   "outputs": [
    {
     "name": "stdout",
     "output_type": "stream",
     "text": [
      "Data Preprocessed\n",
      "Max English sentence length: 15\n",
      "Max French sentence length: 21\n",
      "English vocabulary size: 199\n",
      "French vocabulary size: 344\n"
     ]
    }
   ],
   "source": [
    "def preprocess(x, y):\n",
    "    \"\"\"\n",
    "    Preprocess x and y\n",
    "    :param x: Feature List of sentences\n",
    "    :param y: Label List of sentences\n",
    "    :return: Tuple of (Preprocessed x, Preprocessed y, x tokenizer, y tokenizer)\n",
    "    \"\"\"\n",
    "    preprocess_x, x_tk = tokenize(x)\n",
    "    preprocess_y, y_tk = tokenize(y)\n",
    "\n",
    "    preprocess_x = pad(preprocess_x)\n",
    "    preprocess_y = pad(preprocess_y)\n",
    "\n",
    "    # Keras's sparse_categorical_crossentropy function requires the labels to be in 3 dimensions\n",
    "    preprocess_y = preprocess_y.reshape(*preprocess_y.shape, 1)\n",
    "\n",
    "    return preprocess_x, preprocess_y, x_tk, y_tk\n",
    "\n",
    "preproc_english_sentences, preproc_french_sentences, english_tokenizer, french_tokenizer =\\\n",
    "    preprocess(english_sentences, french_sentences)\n",
    "    \n",
    "max_english_sequence_length = preproc_english_sentences.shape[1]\n",
    "max_french_sequence_length = preproc_french_sentences.shape[1]\n",
    "english_vocab_size = len(english_tokenizer.word_index)\n",
    "french_vocab_size = len(french_tokenizer.word_index)\n",
    "\n",
    "print('Data Preprocessed')\n",
    "print(\"Max English sentence length:\", max_english_sequence_length)\n",
    "print(\"Max French sentence length:\", max_french_sequence_length)\n",
    "print(\"English vocabulary size:\", english_vocab_size)\n",
    "print(\"French vocabulary size:\", french_vocab_size)"
   ]
  },
  {
   "cell_type": "markdown",
   "metadata": {},
   "source": [
    "## Models\n",
    "In this section, you will experiment with various neural network architectures.\n",
    "You will begin by training four relatively simple architectures.\n",
    "- Model 1 is a simple RNN\n",
    "- Model 2 is a RNN with Embedding\n",
    "- Model 3 is a Bidirectional RNN\n",
    "- Model 4 is an optional Encoder-Decoder RNN\n",
    "\n",
    "After experimenting with the four simple architectures, you will construct a deeper architecture that is designed to outperform all four models.\n",
    "### Ids Back to Text\n",
    "The neural network will be translating the input to words ids, which isn't the final form we want.  We want the French translation.  The function `logits_to_text` will bridge the gab between the logits from the neural network to the French translation.  You'll be using this function to better understand the output of the neural network."
   ]
  },
  {
   "cell_type": "code",
   "execution_count": 10,
   "metadata": {},
   "outputs": [
    {
     "name": "stdout",
     "output_type": "stream",
     "text": [
      "`logits_to_text` function loaded.\n"
     ]
    }
   ],
   "source": [
    "def logits_to_text(logits, tokenizer):\n",
    "    \"\"\"\n",
    "    Turn logits from a neural network into text using the tokenizer\n",
    "    :param logits: Logits from a neural network\n",
    "    :param tokenizer: Keras Tokenizer fit on the labels\n",
    "    :return: String that represents the text of the logits\n",
    "    \"\"\"\n",
    "    index_to_words = {id: word for word, id in tokenizer.word_index.items()}\n",
    "    index_to_words[0] = '<PAD>'\n",
    "\n",
    "    return ' '.join([index_to_words[prediction] for prediction in np.argmax(logits, 1)])\n",
    "\n",
    "print('`logits_to_text` function loaded.')"
   ]
  },
  {
   "cell_type": "markdown",
   "metadata": {},
   "source": [
    "### Model 1: RNN (IMPLEMENTATION)\n",
    "![RNN](images/rnn.png)\n",
    "A basic RNN model is a good baseline for sequence data.  In this model, you'll build a RNN that translates English to French."
   ]
  },
  {
   "cell_type": "code",
   "execution_count": 11,
   "metadata": {},
   "outputs": [
    {
     "name": "stdout",
     "output_type": "stream",
     "text": [
      "_________________________________________________________________\n",
      "Layer (type)                 Output Shape              Param #   \n",
      "=================================================================\n",
      "gru_2 (GRU)                  (None, 21, 128)           49920     \n",
      "_________________________________________________________________\n",
      "time_distributed_2 (TimeDist (None, 21, 345)           44505     \n",
      "=================================================================\n",
      "Total params: 94,425\n",
      "Trainable params: 94,425\n",
      "Non-trainable params: 0\n",
      "_________________________________________________________________\n",
      "Train on 110288 samples, validate on 27573 samples\n",
      "Epoch 1/10\n",
      "110288/110288 [==============================] - 8s 72us/step - loss: 4.0175 - acc: 0.4055 - val_loss: 2.6926 - val_acc: 0.4563\n",
      "Epoch 2/10\n",
      "110288/110288 [==============================] - 7s 65us/step - loss: 2.6907 - acc: 0.4503 - val_loss: 2.4934 - val_acc: 0.4661\n",
      "Epoch 3/10\n",
      "110288/110288 [==============================] - 7s 66us/step - loss: 2.5283 - acc: 0.4662 - val_loss: 2.3443 - val_acc: 0.4802\n",
      "Epoch 4/10\n",
      "110288/110288 [==============================] - 7s 65us/step - loss: 2.3898 - acc: 0.4825 - val_loss: 2.1936 - val_acc: 0.4953\n",
      "Epoch 5/10\n",
      "110288/110288 [==============================] - 7s 66us/step - loss: 2.2593 - acc: 0.5099 - val_loss: 2.0499 - val_acc: 0.5276\n",
      "Epoch 6/10\n",
      "110288/110288 [==============================] - 7s 66us/step - loss: 2.1352 - acc: 0.5370 - val_loss: 1.9273 - val_acc: 0.5487\n",
      "Epoch 7/10\n",
      "110288/110288 [==============================] - 7s 66us/step - loss: 2.0253 - acc: 0.5512 - val_loss: 1.8317 - val_acc: 0.5605\n",
      "Epoch 8/10\n",
      "110288/110288 [==============================] - 7s 66us/step - loss: 1.9359 - acc: 0.5594 - val_loss: 1.7568 - val_acc: 0.5732\n",
      "Epoch 9/10\n",
      "110288/110288 [==============================] - 7s 66us/step - loss: 1.8550 - acc: 0.5635 - val_loss: 1.7038 - val_acc: 0.5759\n",
      "Epoch 10/10\n",
      "110288/110288 [==============================] - 7s 66us/step - loss: 1.7961 - acc: 0.5671 - val_loss: 1.6601 - val_acc: 0.5818\n",
      "English    : new jersey is sometimes quiet during autumn , and it is snowy in april .\n",
      "French     : new jersey est parfois calme pendant l' automne , et il est neigeux en avril .\n",
      "Translation: new jersey est est parfois en en mais il est est en en <PAD> <PAD> <PAD> <PAD> <PAD> <PAD> <PAD> <PAD>\n"
     ]
    }
   ],
   "source": [
    "from keras.models import Sequential\n",
    "\n",
    "def simple_model(input_shape, output_sequence_length, english_vocab_size, french_vocab_size):\n",
    "    \"\"\"\n",
    "    Build and train a basic RNN on x and y\n",
    "    :param input_shape: Tuple of input shape\n",
    "    :param output_sequence_length: Length of output sequence\n",
    "    :param english_vocab_size: Number of unique English words in the dataset\n",
    "    :param french_vocab_size: Number of unique French words in the dataset\n",
    "    :return: Keras model built, but not trained\n",
    "    \"\"\"\n",
    "    # Tunning parameters\n",
    "    units = 128  # tested with 64/128/256\n",
    "    learning_rate = 0.0003\n",
    "    dropout_rate = 0.2\n",
    "    \n",
    "    # Simple RNN model\n",
    "    # Many to Many RNN training: use TimeDistributed Dense and return_sequences=True\n",
    "    # ref: https://machinelearningmastery.com/encoder-decoder-long-short-term-memory-networks/\n",
    "    model = Sequential()\n",
    "    model.add(GRU(units, input_shape=input_shape[1:], return_sequences=True, dropout=dropout_rate))\n",
    "    model.add(TimeDistributed(Dense(french_vocab_size, activation='softmax')))\n",
    "    \n",
    "    model.compile(loss=sparse_categorical_crossentropy,\n",
    "                  optimizer=Adam(learning_rate),\n",
    "                  metrics=['accuracy'])\n",
    "    return model\n",
    "tests.test_simple_model(simple_model)\n",
    "\n",
    "# Reshaping the input to work with a basic RNN\n",
    "tmp_x = pad(preproc_english_sentences, max_french_sequence_length)\n",
    "tmp_x = tmp_x.reshape((-1, preproc_french_sentences.shape[-2], 1))\n",
    "\n",
    "# Train the neural network\n",
    "# Add +1 on both vocab sizes due to tensorflow boundary error\n",
    "# Those sizes doesn't consider index 0 <PAD>.\n",
    "simple_rnn_model = simple_model(\n",
    "    tmp_x.shape,\n",
    "    max_french_sequence_length,\n",
    "    english_vocab_size + 1,\n",
    "    french_vocab_size + 1)\n",
    "simple_rnn_model.summary()\n",
    "simple_rnn_model.fit(tmp_x, preproc_french_sentences, batch_size=1024, epochs=10, validation_split=0.2)\n",
    "\n",
    "# Print prediction(s)\n",
    "print('English    : ' + english_sentences[0])\n",
    "print('French     : ' + french_sentences[0])\n",
    "print('Translation: ' + logits_to_text(simple_rnn_model.predict(tmp_x[:1])[0], french_tokenizer))"
   ]
  },
  {
   "cell_type": "markdown",
   "metadata": {},
   "source": [
    "### Model 2: Embedding (IMPLEMENTATION)\n",
    "![RNN](images/embedding.png)\n",
    "You've turned the words into ids, but there's a better representation of a word.  This is called word embeddings.  An embedding is a vector representation of the word that is close to similar words in n-dimensional space, where the n represents the size of the embedding vectors.\n",
    "\n",
    "In this model, you'll create a RNN model using embedding."
   ]
  },
  {
   "cell_type": "code",
   "execution_count": 12,
   "metadata": {},
   "outputs": [
    {
     "name": "stdout",
     "output_type": "stream",
     "text": [
      "_________________________________________________________________\n",
      "Layer (type)                 Output Shape              Param #   \n",
      "=================================================================\n",
      "embedding_2 (Embedding)      (None, 21, 128)           25600     \n",
      "_________________________________________________________________\n",
      "gru_4 (GRU)                  (None, 21, 128)           98688     \n",
      "_________________________________________________________________\n",
      "time_distributed_4 (TimeDist (None, 21, 345)           44505     \n",
      "=================================================================\n",
      "Total params: 168,793\n",
      "Trainable params: 168,793\n",
      "Non-trainable params: 0\n",
      "_________________________________________________________________\n",
      "Train on 110288 samples, validate on 27573 samples\n",
      "Epoch 1/10\n",
      "110288/110288 [==============================] - 9s 83us/step - loss: 2.6469 - acc: 0.4843 - val_loss: 1.4662 - val_acc: 0.6405\n",
      "Epoch 2/10\n",
      "110288/110288 [==============================] - 9s 80us/step - loss: 1.0214 - acc: 0.7376 - val_loss: 0.6994 - val_acc: 0.8026\n",
      "Epoch 3/10\n",
      "110288/110288 [==============================] - 9s 80us/step - loss: 0.6087 - acc: 0.8219 - val_loss: 0.4905 - val_acc: 0.8524\n",
      "Epoch 4/10\n",
      "110288/110288 [==============================] - 9s 80us/step - loss: 0.4596 - acc: 0.8589 - val_loss: 0.3834 - val_acc: 0.8822\n",
      "Epoch 5/10\n",
      "110288/110288 [==============================] - 9s 80us/step - loss: 0.3790 - acc: 0.8818 - val_loss: 0.3265 - val_acc: 0.8986\n",
      "Epoch 6/10\n",
      "110288/110288 [==============================] - 9s 80us/step - loss: 0.3312 - acc: 0.8953 - val_loss: 0.2941 - val_acc: 0.9069\n",
      "Epoch 7/10\n",
      "110288/110288 [==============================] - 9s 80us/step - loss: 0.3014 - acc: 0.9038 - val_loss: 0.2739 - val_acc: 0.9116\n",
      "Epoch 8/10\n",
      "110288/110288 [==============================] - 9s 80us/step - loss: 0.2812 - acc: 0.9094 - val_loss: 0.2557 - val_acc: 0.9174\n",
      "Epoch 9/10\n",
      "110288/110288 [==============================] - 9s 80us/step - loss: 0.2631 - acc: 0.9144 - val_loss: 0.2430 - val_acc: 0.9212\n",
      "Epoch 10/10\n",
      "110288/110288 [==============================] - 9s 80us/step - loss: 0.2537 - acc: 0.9167 - val_loss: 0.2319 - val_acc: 0.9239\n",
      "English    : new jersey is sometimes quiet during autumn , and it is snowy in april .\n",
      "French     : new jersey est parfois calme pendant l' automne , et il est neigeux en avril .\n",
      "Translation: new jersey est parfois calme en l' automne et il est neigeux en avril <PAD> <PAD> <PAD> <PAD> <PAD> <PAD> <PAD>\n"
     ]
    }
   ],
   "source": [
    "def embed_model(input_shape, output_sequence_length, english_vocab_size, french_vocab_size):\n",
    "    \"\"\"\n",
    "    Build and train a RNN model using word embedding on x and y\n",
    "    :param input_shape: Tuple of input shape\n",
    "    :param output_sequence_length: Length of output sequence\n",
    "    :param english_vocab_size: Number of unique English words in the dataset\n",
    "    :param french_vocab_size: Number of unique French words in the dataset\n",
    "    :return: Keras model built, but not trained\n",
    "    \"\"\"\n",
    "    # Tunning parameters\n",
    "    input_dim = english_vocab_size\n",
    "    output_dim = 128\n",
    "    \n",
    "    units = 128\n",
    "    learning_rate = 0.003\n",
    "    dropout_rate = 0.2\n",
    "    \n",
    "    # Embedding RNN model\n",
    "    model = Sequential()\n",
    "    model.add(Embedding(input_dim, output_dim, input_shape=input_shape[1:]))\n",
    "    model.add(GRU(units, return_sequences=True, dropout=dropout_rate))\n",
    "    model.add(TimeDistributed(Dense(french_vocab_size, activation='softmax')))\n",
    "    \n",
    "    model.compile(loss=sparse_categorical_crossentropy,\n",
    "                  optimizer=Adam(learning_rate),\n",
    "                  metrics=['accuracy'])\n",
    "    return model\n",
    "tests.test_embed_model(embed_model)\n",
    "\n",
    "# Add padding to the input\n",
    "tmp_x = pad(preproc_english_sentences, max_french_sequence_length)\n",
    "\n",
    "# Train the neural network\n",
    "embed_rnn_model = embed_model(\n",
    "    tmp_x.shape,\n",
    "    max_french_sequence_length,\n",
    "    english_vocab_size + 1,\n",
    "    french_vocab_size + 1)\n",
    "embed_rnn_model.summary()\n",
    "embed_rnn_model.fit(tmp_x, preproc_french_sentences, batch_size=1024, epochs=10, validation_split=0.2)\n",
    "\n",
    "# Print prediction(s)\n",
    "print('English    : ' + english_sentences[0])\n",
    "print('French     : ' + french_sentences[0])\n",
    "print('Translation: ' + logits_to_text(embed_rnn_model.predict(tmp_x[:1])[0], french_tokenizer))"
   ]
  },
  {
   "cell_type": "markdown",
   "metadata": {},
   "source": [
    "### Model 3: Bidirectional RNNs (IMPLEMENTATION)\n",
    "![RNN](images/bidirectional.png)\n",
    "One restriction of a RNN is that it can't see the future input, only the past.  This is where bidirectional recurrent neural networks come in.  They are able to see the future data."
   ]
  },
  {
   "cell_type": "code",
   "execution_count": 13,
   "metadata": {},
   "outputs": [
    {
     "name": "stdout",
     "output_type": "stream",
     "text": [
      "_________________________________________________________________\n",
      "Layer (type)                 Output Shape              Param #   \n",
      "=================================================================\n",
      "bidirectional_2 (Bidirection (None, 21, 256)           99840     \n",
      "_________________________________________________________________\n",
      "time_distributed_6 (TimeDist (None, 21, 345)           88665     \n",
      "=================================================================\n",
      "Total params: 188,505\n",
      "Trainable params: 188,505\n",
      "Non-trainable params: 0\n",
      "_________________________________________________________________\n",
      "Train on 110288 samples, validate on 27573 samples\n",
      "Epoch 1/10\n",
      "110288/110288 [==============================] - 12s 110us/step - loss: 3.8674 - acc: 0.4354 - val_loss: 2.3768 - val_acc: 0.4861\n",
      "Epoch 2/10\n",
      "110288/110288 [==============================] - 12s 105us/step - loss: 2.3152 - acc: 0.5041 - val_loss: 2.0402 - val_acc: 0.5467\n",
      "Epoch 3/10\n",
      "110288/110288 [==============================] - 12s 105us/step - loss: 2.0020 - acc: 0.5482 - val_loss: 1.7944 - val_acc: 0.5664\n",
      "Epoch 4/10\n",
      "110288/110288 [==============================] - 12s 104us/step - loss: 1.8035 - acc: 0.5686 - val_loss: 1.6595 - val_acc: 0.5802\n",
      "Epoch 5/10\n",
      "110288/110288 [==============================] - 12s 104us/step - loss: 1.6798 - acc: 0.5832 - val_loss: 1.5737 - val_acc: 0.5898\n",
      "Epoch 6/10\n",
      "110288/110288 [==============================] - 12s 105us/step - loss: 1.5963 - acc: 0.5935 - val_loss: 1.5145 - val_acc: 0.5998\n",
      "Epoch 7/10\n",
      "110288/110288 [==============================] - 12s 105us/step - loss: 1.5338 - acc: 0.6009 - val_loss: 1.4729 - val_acc: 0.6019\n",
      "Epoch 8/10\n",
      "110288/110288 [==============================] - 12s 105us/step - loss: 1.4854 - acc: 0.6069 - val_loss: 1.4462 - val_acc: 0.6042\n",
      "Epoch 9/10\n",
      "110288/110288 [==============================] - 12s 105us/step - loss: 1.4463 - acc: 0.6117 - val_loss: 1.4276 - val_acc: 0.6065\n",
      "Epoch 10/10\n",
      "110288/110288 [==============================] - 12s 105us/step - loss: 1.4135 - acc: 0.6172 - val_loss: 1.4137 - val_acc: 0.6078\n",
      "English    : new jersey is sometimes quiet during autumn , and it is snowy in april .\n",
      "French     : new jersey est parfois calme pendant l' automne , et il est neigeux en avril .\n",
      "Translation: new jersey est parfois agréable en l' mais il est est en en <PAD> <PAD> <PAD> <PAD> <PAD> <PAD> <PAD> <PAD>\n"
     ]
    }
   ],
   "source": [
    "def bd_model(input_shape, output_sequence_length, english_vocab_size, french_vocab_size):\n",
    "    \"\"\"\n",
    "    Build and train a bidirectional RNN model on x and y\n",
    "    :param input_shape: Tuple of input shape\n",
    "    :param output_sequence_length: Length of output sequence\n",
    "    :param english_vocab_size: Number of unique English words in the dataset\n",
    "    :param french_vocab_size: Number of unique French words in the dataset\n",
    "    :return: Keras model built, but not trained\n",
    "    \"\"\"\n",
    "    # Tunning parameters\n",
    "    units = 128\n",
    "    learning_rate = 0.0003\n",
    "    dropout_rate = 0.2\n",
    "    \n",
    "    # Bidirectional RNN model\n",
    "    model = Sequential()\n",
    "    model.add(Bidirectional(GRU(units, dropout=dropout_rate, return_sequences=True), input_shape=input_shape[1:]))\n",
    "    model.add(TimeDistributed(Dense(french_vocab_size, activation='softmax')))\n",
    "    \n",
    "    model.compile(loss=sparse_categorical_crossentropy,\n",
    "                  optimizer=Adam(learning_rate),\n",
    "                  metrics=['accuracy'])\n",
    "    return model\n",
    "tests.test_bd_model(bd_model)\n",
    "\n",
    "# Reshaping the input to work with a bidirectional RNN\n",
    "tmp_x = pad(preproc_english_sentences, max_french_sequence_length)\n",
    "tmp_x = tmp_x.reshape((-1, preproc_french_sentences.shape[-2], 1))\n",
    "\n",
    "# Train the neural network\n",
    "bd_rnn_model = bd_model(\n",
    "    tmp_x.shape,\n",
    "    max_french_sequence_length,\n",
    "    english_vocab_size + 1,\n",
    "    french_vocab_size + 1)\n",
    "bd_rnn_model.summary()\n",
    "bd_rnn_model.fit(tmp_x, preproc_french_sentences, batch_size=1024, epochs=10, validation_split=0.2)\n",
    "\n",
    "# Print prediction(s)\n",
    "print('English    : ' + english_sentences[0])\n",
    "print('French     : ' + french_sentences[0])\n",
    "print('Translation: ' + logits_to_text(bd_rnn_model.predict(tmp_x[:1])[0], french_tokenizer))"
   ]
  },
  {
   "cell_type": "markdown",
   "metadata": {},
   "source": [
    "### Model 4: Encoder-Decoder (OPTIONAL)\n",
    "Time to look at encoder-decoder models.  This model is made up of an encoder and decoder. The encoder creates a matrix representation of the sentence.  The decoder takes this matrix as input and predicts the translation as output.\n",
    "\n",
    "Create an encoder-decoder model in the cell below."
   ]
  },
  {
   "cell_type": "code",
   "execution_count": 14,
   "metadata": {},
   "outputs": [
    {
     "name": "stdout",
     "output_type": "stream",
     "text": [
      "_________________________________________________________________\n",
      "Layer (type)                 Output Shape              Param #   \n",
      "=================================================================\n",
      "gru_9 (GRU)                  (None, 128)               49920     \n",
      "_________________________________________________________________\n",
      "repeat_vector_2 (RepeatVecto (None, 21, 128)           0         \n",
      "_________________________________________________________________\n",
      "gru_10 (GRU)                 (None, 21, 128)           98688     \n",
      "_________________________________________________________________\n",
      "time_distributed_8 (TimeDist (None, 21, 345)           44505     \n",
      "=================================================================\n",
      "Total params: 193,113\n",
      "Trainable params: 193,113\n",
      "Non-trainable params: 0\n",
      "_________________________________________________________________\n",
      "Train on 110288 samples, validate on 27573 samples\n",
      "Epoch 1/10\n",
      "110288/110288 [==============================] - 13s 119us/step - loss: 3.1744 - acc: 0.4292 - val_loss: 2.5589 - val_acc: 0.4598\n",
      "Epoch 2/10\n",
      "110288/110288 [==============================] - 12s 112us/step - loss: 2.4857 - acc: 0.4714 - val_loss: 2.2978 - val_acc: 0.5024\n",
      "Epoch 3/10\n",
      "110288/110288 [==============================] - 12s 112us/step - loss: 2.2163 - acc: 0.5102 - val_loss: 2.0916 - val_acc: 0.5298\n",
      "Epoch 4/10\n",
      "110288/110288 [==============================] - 12s 112us/step - loss: 2.0623 - acc: 0.5286 - val_loss: 1.9784 - val_acc: 0.5354\n",
      "Epoch 5/10\n",
      "110288/110288 [==============================] - 12s 112us/step - loss: 1.9614 - acc: 0.5372 - val_loss: 1.8450 - val_acc: 0.5530\n",
      "Epoch 6/10\n",
      "110288/110288 [==============================] - 12s 112us/step - loss: 1.7796 - acc: 0.5579 - val_loss: 1.6567 - val_acc: 0.5691\n",
      "Epoch 7/10\n",
      "110288/110288 [==============================] - 12s 112us/step - loss: 1.6639 - acc: 0.5691 - val_loss: 1.6125 - val_acc: 0.5660\n",
      "Epoch 8/10\n",
      "110288/110288 [==============================] - 12s 112us/step - loss: 1.6007 - acc: 0.5777 - val_loss: 1.5373 - val_acc: 0.5827\n",
      "Epoch 9/10\n",
      "110288/110288 [==============================] - 12s 112us/step - loss: 1.5469 - acc: 0.5869 - val_loss: 1.5065 - val_acc: 0.5907\n",
      "Epoch 10/10\n",
      "110288/110288 [==============================] - 12s 112us/step - loss: 1.5033 - acc: 0.5934 - val_loss: 1.4573 - val_acc: 0.5999\n",
      "English    : new jersey is sometimes quiet during autumn , and it is snowy in april .\n",
      "French     : new jersey est parfois calme pendant l' automne , et il est neigeux en avril .\n",
      "Translation: new jersey est parfois agréable en mois et il il est en en <PAD> <PAD> <PAD> <PAD> <PAD> <PAD> <PAD> <PAD>\n"
     ]
    }
   ],
   "source": [
    "def encdec_model(input_shape, output_sequence_length, english_vocab_size, french_vocab_size):\n",
    "    \"\"\"\n",
    "    Build and train an encoder-decoder model on x and y\n",
    "    :param input_shape: Tuple of input shape\n",
    "    :param output_sequence_length: Length of output sequence\n",
    "    :param english_vocab_size: Number of unique English words in the dataset\n",
    "    :param french_vocab_size: Number of unique French words in the dataset\n",
    "    :return: Keras model built, but not trained\n",
    "    \"\"\"\n",
    "    # Tunning parameters\n",
    "    enc_units = 128\n",
    "    dec_units = 128\n",
    "    learning_rate = 0.001\n",
    "    dropout_rate = 0.2\n",
    "    \n",
    "    # Encoder-Decoder model\n",
    "    # ref: https://machinelearningmastery.com/encoder-decoder-long-short-term-memory-networks/\n",
    "    # RepeatVector should be used for input of decoder.\n",
    "    \n",
    "    # Encoder\n",
    "    model = Sequential()\n",
    "    model.add(GRU(enc_units, input_shape=input_shape[1:], dropout=dropout_rate, return_sequences=False))\n",
    "   \n",
    "    # Decoder\n",
    "    model.add(RepeatVector(output_sequence_length))\n",
    "    model.add(GRU(dec_units, input_shape=input_shape[1:], dropout=dropout_rate, return_sequences=True))\n",
    "    model.add(TimeDistributed(Dense(french_vocab_size, activation='softmax')))\n",
    "    \n",
    "    model.compile(loss=sparse_categorical_crossentropy,\n",
    "                  optimizer=Adam(learning_rate),\n",
    "                  metrics=['accuracy'])\n",
    "    return model\n",
    "tests.test_encdec_model(encdec_model)\n",
    "\n",
    "# Reshaping the input to work with a Encoder-Decoder RNN\n",
    "tmp_x = pad(preproc_english_sentences, max_french_sequence_length)\n",
    "tmp_x = tmp_x.reshape((-1, preproc_french_sentences.shape[-2], 1))\n",
    "\n",
    "# Train the neural network\n",
    "encdec_rnn_model = encdec_model(\n",
    "    tmp_x.shape,\n",
    "    max_french_sequence_length,\n",
    "    english_vocab_size + 1,\n",
    "    french_vocab_size + 1)\n",
    "encdec_rnn_model.summary()\n",
    "encdec_rnn_model.fit(tmp_x, preproc_french_sentences, batch_size=1024, epochs=10, validation_split=0.2)\n",
    "\n",
    "# Print prediction(s)\n",
    "print('English    : ' + english_sentences[0])\n",
    "print('French     : ' + french_sentences[0])\n",
    "print('Translation: ' + logits_to_text(encdec_rnn_model.predict(tmp_x[:1])[0], french_tokenizer))"
   ]
  },
  {
   "cell_type": "markdown",
   "metadata": {},
   "source": [
    "### Model 5: Custom (IMPLEMENTATION)\n",
    "Use everything you learned from the previous models to create a model that incorporates embedding and a bidirectional rnn into one model."
   ]
  },
  {
   "cell_type": "code",
   "execution_count": 15,
   "metadata": {},
   "outputs": [
    {
     "name": "stdout",
     "output_type": "stream",
     "text": [
      "Final Model Loaded\n",
      "_________________________________________________________________\n",
      "Layer (type)                 Output Shape              Param #   \n",
      "=================================================================\n",
      "embedding_4 (Embedding)      (None, 21, 128)           25600     \n",
      "_________________________________________________________________\n",
      "bidirectional_5 (Bidirection (None, 256)               197376    \n",
      "_________________________________________________________________\n",
      "repeat_vector_4 (RepeatVecto (None, 21, 256)           0         \n",
      "_________________________________________________________________\n",
      "bidirectional_6 (Bidirection (None, 21, 256)           295680    \n",
      "_________________________________________________________________\n",
      "time_distributed_10 (TimeDis (None, 21, 345)           88665     \n",
      "=================================================================\n",
      "Total params: 607,321\n",
      "Trainable params: 607,321\n",
      "Non-trainable params: 0\n",
      "_________________________________________________________________\n",
      "Train on 110288 samples, validate on 27573 samples\n",
      "Epoch 1/25\n",
      "110288/110288 [==============================] - 28s 257us/step - loss: 2.5258 - acc: 0.4705 - val_loss: 1.7564 - val_acc: 0.5645\n",
      "Epoch 2/25\n",
      "110288/110288 [==============================] - 27s 246us/step - loss: 1.5116 - acc: 0.6089 - val_loss: 1.2709 - val_acc: 0.6596\n",
      "Epoch 3/25\n",
      "110288/110288 [==============================] - 27s 246us/step - loss: 1.1644 - acc: 0.6793 - val_loss: 1.0275 - val_acc: 0.7126\n",
      "Epoch 4/25\n",
      "110288/110288 [==============================] - 27s 246us/step - loss: 0.9497 - acc: 0.7276 - val_loss: 0.8327 - val_acc: 0.7552\n",
      "Epoch 5/25\n",
      "110288/110288 [==============================] - 27s 246us/step - loss: 0.7936 - acc: 0.7644 - val_loss: 0.6905 - val_acc: 0.7919\n",
      "Epoch 6/25\n",
      "110288/110288 [==============================] - 27s 245us/step - loss: 0.6570 - acc: 0.8016 - val_loss: 0.5600 - val_acc: 0.8337\n",
      "Epoch 7/25\n",
      "110288/110288 [==============================] - 27s 245us/step - loss: 0.5451 - acc: 0.8361 - val_loss: 0.4509 - val_acc: 0.8684\n",
      "Epoch 8/25\n",
      "110288/110288 [==============================] - 27s 246us/step - loss: 0.4454 - acc: 0.8685 - val_loss: 0.3687 - val_acc: 0.8965\n",
      "Epoch 9/25\n",
      "110288/110288 [==============================] - 27s 246us/step - loss: 0.3677 - acc: 0.8937 - val_loss: 0.2989 - val_acc: 0.9163\n",
      "Epoch 10/25\n",
      "110288/110288 [==============================] - 27s 245us/step - loss: 0.3162 - acc: 0.9098 - val_loss: 0.2490 - val_acc: 0.9329\n",
      "Epoch 11/25\n",
      "110288/110288 [==============================] - 27s 245us/step - loss: 0.2563 - acc: 0.9288 - val_loss: 0.1972 - val_acc: 0.9480\n",
      "Epoch 12/25\n",
      "110288/110288 [==============================] - 27s 246us/step - loss: 0.2332 - acc: 0.9346 - val_loss: 0.1708 - val_acc: 0.9543\n",
      "Epoch 13/25\n",
      "110288/110288 [==============================] - 27s 246us/step - loss: 0.1922 - acc: 0.9464 - val_loss: 0.1498 - val_acc: 0.9585\n",
      "Epoch 14/25\n",
      "110288/110288 [==============================] - 27s 246us/step - loss: 0.1704 - acc: 0.9522 - val_loss: 0.1372 - val_acc: 0.9622\n",
      "Epoch 15/25\n",
      "110288/110288 [==============================] - 27s 246us/step - loss: 0.1548 - acc: 0.9559 - val_loss: 0.1243 - val_acc: 0.9656\n",
      "Epoch 16/25\n",
      "110288/110288 [==============================] - 27s 246us/step - loss: 0.1411 - acc: 0.9596 - val_loss: 0.1165 - val_acc: 0.9672\n",
      "Epoch 17/25\n",
      "110288/110288 [==============================] - 27s 246us/step - loss: 0.1330 - acc: 0.9618 - val_loss: 0.1090 - val_acc: 0.9693\n",
      "Epoch 18/25\n",
      "110288/110288 [==============================] - 27s 246us/step - loss: 0.1259 - acc: 0.9633 - val_loss: 0.1055 - val_acc: 0.9701\n",
      "Epoch 19/25\n",
      "110288/110288 [==============================] - 27s 246us/step - loss: 0.1161 - acc: 0.9660 - val_loss: 0.0977 - val_acc: 0.9722\n",
      "Epoch 20/25\n",
      "110288/110288 [==============================] - 27s 246us/step - loss: 0.1061 - acc: 0.9689 - val_loss: 0.0938 - val_acc: 0.9732\n",
      "Epoch 21/25\n",
      "110288/110288 [==============================] - 27s 246us/step - loss: 0.1013 - acc: 0.9703 - val_loss: 0.1007 - val_acc: 0.9714\n",
      "Epoch 22/25\n",
      "110288/110288 [==============================] - 27s 246us/step - loss: 0.1142 - acc: 0.9666 - val_loss: 0.0911 - val_acc: 0.9740\n",
      "Epoch 23/25\n",
      "110288/110288 [==============================] - 27s 246us/step - loss: 0.0950 - acc: 0.9718 - val_loss: 0.0824 - val_acc: 0.9763\n",
      "Epoch 24/25\n",
      "110288/110288 [==============================] - 27s 246us/step - loss: 0.0893 - acc: 0.9734 - val_loss: 0.0790 - val_acc: 0.9771\n",
      "Epoch 25/25\n",
      "110288/110288 [==============================] - 27s 246us/step - loss: 0.0845 - acc: 0.9749 - val_loss: 0.0778 - val_acc: 0.9775\n",
      "English    : new jersey is sometimes quiet during autumn , and it is snowy in april .\n",
      "French     : new jersey est parfois calme pendant l' automne , et il est neigeux en avril .\n",
      "Translation: new jersey est parfois calme pendant l' automne et il est neigeux en avril <PAD> <PAD> <PAD> <PAD> <PAD> <PAD> <PAD>\n"
     ]
    }
   ],
   "source": [
    "def model_final(input_shape, output_sequence_length, english_vocab_size, french_vocab_size):\n",
    "    \"\"\"\n",
    "    Build and train a model that incorporates embedding, encoder-decoder, and bidirectional RNN on x and y\n",
    "    :param input_shape: Tuple of input shape\n",
    "    :param output_sequence_length: Length of output sequence\n",
    "    :param english_vocab_size: Number of unique English words in the dataset\n",
    "    :param french_vocab_size: Number of unique French words in the dataset\n",
    "    :return: Keras model built, but not trained\n",
    "    \"\"\"\n",
    "    # Tunned parameters\n",
    "    input_dim = english_vocab_size\n",
    "    output_dim = 128\n",
    "    \n",
    "    enc_units = 128\n",
    "    dec_units = 128\n",
    "\n",
    "    learning_rate = 0.003\n",
    "    dropout_rate = 0.2\n",
    "\n",
    "    # Final model = Embedding + Encoder-Decoder + Bidirectional models\n",
    "    # Embedding\n",
    "    model = Sequential()\n",
    "    model.add(Embedding(input_dim, output_dim, input_shape=input_shape[1:]))\n",
    "\n",
    "    # Encoder and Bidirectional\n",
    "    model.add(Bidirectional(GRU(enc_units, dropout=dropout_rate, return_sequences=False)))\n",
    "   \n",
    "    # Decoder and Bidirectional\n",
    "    model.add(RepeatVector(output_sequence_length))\n",
    "    model.add(Bidirectional(\n",
    "        GRU(dec_units, input_shape=input_shape[1:], dropout=dropout_rate, return_sequences=True)))\n",
    "    model.add(TimeDistributed(Dense(french_vocab_size, activation='softmax')))\n",
    "              \n",
    "    model.compile(loss=sparse_categorical_crossentropy,\n",
    "                  optimizer=Adam(learning_rate),\n",
    "                  metrics=['accuracy'])\n",
    "    return model\n",
    "tests.test_model_final(model_final)\n",
    "\n",
    "\n",
    "print('Final Model Loaded')\n",
    "# Add padding to the input\n",
    "tmp_x = pad(preproc_english_sentences, max_french_sequence_length)\n",
    "\n",
    "# Train the neural network\n",
    "final_rnn_model = model_final(\n",
    "    tmp_x.shape,\n",
    "    max_french_sequence_length,\n",
    "    english_vocab_size + 1,\n",
    "    french_vocab_size + 1)\n",
    "final_rnn_model.summary()\n",
    "final_rnn_model.fit(tmp_x, preproc_french_sentences, batch_size=1024, epochs=25, validation_split=0.2)\n",
    "\n",
    "# Print prediction(s)\n",
    "print('English    : ' + english_sentences[0])\n",
    "print('French     : ' + french_sentences[0])\n",
    "print('Translation: ' + logits_to_text(final_rnn_model.predict(tmp_x[:1])[0], french_tokenizer))"
   ]
  },
  {
   "cell_type": "markdown",
   "metadata": {},
   "source": [
    "## Prediction (IMPLEMENTATION)"
   ]
  },
  {
   "cell_type": "code",
   "execution_count": 16,
   "metadata": {},
   "outputs": [
    {
     "name": "stdout",
     "output_type": "stream",
     "text": [
      "Train on 110288 samples, validate on 27573 samples\n",
      "Epoch 1/25\n",
      "110288/110288 [==============================] - 26s 234us/step - loss: 2.4532 - acc: 0.4819 - val_loss: 1.6768 - val_acc: 0.5723\n",
      "Epoch 2/25\n",
      "110288/110288 [==============================] - 24s 220us/step - loss: 1.4144 - acc: 0.6253 - val_loss: 1.1889 - val_acc: 0.6748\n",
      "Epoch 3/25\n",
      "110288/110288 [==============================] - 24s 220us/step - loss: 1.0630 - acc: 0.7031 - val_loss: 0.9023 - val_acc: 0.7410\n",
      "Epoch 4/25\n",
      "110288/110288 [==============================] - 24s 220us/step - loss: 0.8480 - acc: 0.7549 - val_loss: 0.7366 - val_acc: 0.7855\n",
      "Epoch 5/25\n",
      "110288/110288 [==============================] - 24s 221us/step - loss: 0.7020 - acc: 0.7935 - val_loss: 0.6004 - val_acc: 0.8228\n",
      "Epoch 6/25\n",
      "110288/110288 [==============================] - 24s 220us/step - loss: 0.5740 - acc: 0.8309 - val_loss: 0.4805 - val_acc: 0.8632\n",
      "Epoch 7/25\n",
      "110288/110288 [==============================] - 24s 220us/step - loss: 0.4631 - acc: 0.8663 - val_loss: 0.3728 - val_acc: 0.8969\n",
      "Epoch 8/25\n",
      "110288/110288 [==============================] - 24s 221us/step - loss: 0.3633 - acc: 0.8962 - val_loss: 0.2805 - val_acc: 0.9236\n",
      "Epoch 9/25\n",
      "110288/110288 [==============================] - 24s 220us/step - loss: 0.2852 - acc: 0.9202 - val_loss: 0.2158 - val_acc: 0.9426\n",
      "Epoch 10/25\n",
      "110288/110288 [==============================] - 24s 220us/step - loss: 0.2310 - acc: 0.9359 - val_loss: 0.1763 - val_acc: 0.9523\n",
      "Epoch 11/25\n",
      "110288/110288 [==============================] - 24s 220us/step - loss: 0.1951 - acc: 0.9451 - val_loss: 0.1620 - val_acc: 0.9557\n",
      "Epoch 12/25\n",
      "110288/110288 [==============================] - 24s 220us/step - loss: 0.1762 - acc: 0.9499 - val_loss: 0.1414 - val_acc: 0.9611\n",
      "Epoch 13/25\n",
      "110288/110288 [==============================] - 24s 221us/step - loss: 0.1556 - acc: 0.9556 - val_loss: 0.1261 - val_acc: 0.9648\n",
      "Epoch 14/25\n",
      "110288/110288 [==============================] - 24s 221us/step - loss: 0.1414 - acc: 0.9593 - val_loss: 0.1309 - val_acc: 0.9618\n",
      "Epoch 15/25\n",
      "110288/110288 [==============================] - 24s 220us/step - loss: 0.1373 - acc: 0.9600 - val_loss: 0.1117 - val_acc: 0.9681\n",
      "Epoch 16/25\n",
      "110288/110288 [==============================] - 24s 220us/step - loss: 0.1265 - acc: 0.9629 - val_loss: 0.1114 - val_acc: 0.9680\n",
      "Epoch 17/25\n",
      "110288/110288 [==============================] - 24s 221us/step - loss: 0.1174 - acc: 0.9655 - val_loss: 0.1009 - val_acc: 0.9711\n",
      "Epoch 18/25\n",
      "110288/110288 [==============================] - 24s 220us/step - loss: 0.1073 - acc: 0.9683 - val_loss: 0.0992 - val_acc: 0.9716\n",
      "Epoch 19/25\n",
      "110288/110288 [==============================] - 24s 221us/step - loss: 0.1031 - acc: 0.9693 - val_loss: 0.0886 - val_acc: 0.9740\n",
      "Epoch 20/25\n",
      "110288/110288 [==============================] - 24s 221us/step - loss: 0.0952 - acc: 0.9716 - val_loss: 0.0810 - val_acc: 0.9764\n",
      "Epoch 21/25\n",
      "110288/110288 [==============================] - 24s 220us/step - loss: 0.0867 - acc: 0.9742 - val_loss: 0.0908 - val_acc: 0.9738\n",
      "Epoch 22/25\n",
      "110288/110288 [==============================] - 24s 221us/step - loss: 0.0894 - acc: 0.9732 - val_loss: 0.0831 - val_acc: 0.9763\n",
      "Epoch 23/25\n",
      "110288/110288 [==============================] - 24s 221us/step - loss: 0.0818 - acc: 0.9754 - val_loss: 0.0770 - val_acc: 0.9778\n",
      "Epoch 24/25\n",
      "110288/110288 [==============================] - 24s 221us/step - loss: 0.0905 - acc: 0.9731 - val_loss: 0.0831 - val_acc: 0.9759\n",
      "Epoch 25/25\n",
      "110288/110288 [==============================] - 24s 221us/step - loss: 0.0823 - acc: 0.9752 - val_loss: 0.0750 - val_acc: 0.9783\n",
      "Sample 1:\n",
      "il a vu un vieux camion jaune <PAD> <PAD> <PAD> <PAD> <PAD> <PAD> <PAD> <PAD> <PAD> <PAD> <PAD> <PAD> <PAD> <PAD>\n",
      "Il a vu un vieux camion jaune\n",
      "Sample 2:\n",
      "new jersey est parfois calme pendant l' automne et il est neigeux en avril <PAD> <PAD> <PAD> <PAD> <PAD> <PAD> <PAD>\n",
      "new jersey est parfois calme pendant l' automne et il est neigeux en avril <PAD> <PAD> <PAD> <PAD> <PAD> <PAD> <PAD>\n"
     ]
    }
   ],
   "source": [
    "def final_predictions(x, y, x_tk, y_tk):\n",
    "    \"\"\"\n",
    "    Gets predictions using the final model\n",
    "    :param x: Preprocessed English data\n",
    "    :param y: Preprocessed French data\n",
    "    :param x_tk: English tokenizer\n",
    "    :param y_tk: French tokenizer\n",
    "    \"\"\"\n",
    "    # Train neural network using model_final\n",
    "    model = model_final(x.shape, y.shape[1], len(x_tk.word_index) + 1, len(y_tk.word_index) + 1)\n",
    "    model.fit(x, y, batch_size=1024, epochs=25, validation_split=0.2)\n",
    "    \n",
    "    ## DON'T EDIT ANYTHING BELOW THIS LINE\n",
    "    y_id_to_word = {value: key for key, value in y_tk.word_index.items()}\n",
    "    y_id_to_word[0] = '<PAD>'\n",
    "\n",
    "    sentence = 'he saw a old yellow truck'\n",
    "    sentence = [x_tk.word_index[word] for word in sentence.split()]\n",
    "    sentence = pad_sequences([sentence], maxlen=x.shape[-1], padding='post')\n",
    "    sentences = np.array([sentence[0], x[0]])\n",
    "    predictions = model.predict(sentences, len(sentences))\n",
    "\n",
    "    print('Sample 1:')\n",
    "    print(' '.join([y_id_to_word[np.argmax(x)] for x in predictions[0]]))\n",
    "    print('Il a vu un vieux camion jaune')\n",
    "    print('Sample 2:')\n",
    "    print(' '.join([y_id_to_word[np.argmax(x)] for x in predictions[1]]))\n",
    "    print(' '.join([y_id_to_word[np.max(x)] for x in y[0]]))\n",
    "\n",
    "\n",
    "final_predictions(preproc_english_sentences, preproc_french_sentences, english_tokenizer, french_tokenizer)"
   ]
  },
  {
   "cell_type": "markdown",
   "metadata": {},
   "source": [
    "## Submission\n",
    "When you're ready to submit, complete the following steps:\n",
    "1. Review the [rubric](https://review.udacity.com/#!/rubrics/1004/view) to ensure your submission meets all requirements to pass\n",
    "2. Generate an HTML version of this notebook\n",
    "\n",
    "  - Run the next cell to attempt automatic generation (this is the recommended method in Workspaces)\n",
    "  - Navigate to **FILE -> Download as -> HTML (.html)**\n",
    "  - Manually generate a copy using `nbconvert` from your shell terminal\n",
    "```\n",
    "$ pip install nbconvert\n",
    "$ python -m nbconvert machine_translation.ipynb\n",
    "```\n",
    "  \n",
    "3. Submit the project\n",
    "\n",
    "  - If you are in a Workspace, simply click the \"Submit Project\" button (bottom towards the right)\n",
    "  \n",
    "  - Otherwise, add the following files into a zip archive and submit them \n",
    "  - `helper.py`\n",
    "  - `machine_translation.ipynb`\n",
    "  - `machine_translation.html`\n",
    "    - You can export the notebook by navigating to **File -> Download as -> HTML (.html)**."
   ]
  },
  {
   "cell_type": "code",
   "execution_count": 18,
   "metadata": {},
   "outputs": [
    {
     "data": {
      "text/plain": [
       "['[NbConvertApp] Converting notebook machine_translation.ipynb to html',\n",
       " '[NbConvertApp] Writing 358927 bytes to machine_translation.html']"
      ]
     },
     "execution_count": 18,
     "metadata": {},
     "output_type": "execute_result"
    }
   ],
   "source": [
    "!!python -m nbconvert *.ipynb"
   ]
  },
  {
   "cell_type": "markdown",
   "metadata": {},
   "source": [
    "## Optional Enhancements\n",
    "\n",
    "This project focuses on learning various network architectures for machine translation, but we don't evaluate the models according to best practices by splitting the data into separate test & training sets -- so the model accuracy is overstated. Use the [`sklearn.model_selection.train_test_split()`](http://scikit-learn.org/stable/modules/generated/sklearn.model_selection.train_test_split.html) function to create separate training & test datasets, then retrain each of the models using only the training set and evaluate the prediction accuracy using the hold out test set. Does the \"best\" model change?"
   ]
  }
 ],
 "metadata": {
  "kernelspec": {
   "display_name": "Python 3",
   "language": "python",
   "name": "python3"
  },
  "language_info": {
   "codemirror_mode": {
    "name": "ipython",
    "version": 3
   },
   "file_extension": ".py",
   "mimetype": "text/x-python",
   "name": "python",
   "nbconvert_exporter": "python",
   "pygments_lexer": "ipython3",
   "version": "3.6.3"
  }
 },
 "nbformat": 4,
 "nbformat_minor": 1
}
